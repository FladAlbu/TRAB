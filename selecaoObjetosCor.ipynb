{
 "cells": [
  {
   "cell_type": "code",
   "execution_count": 90,
   "metadata": {},
   "outputs": [
    {
     "ename": "ModuleNotFoundError",
     "evalue": "No module named 'face_recognition'",
     "output_type": "error",
     "traceback": [
      "\u001b[1;31m---------------------------------------------------------------------------\u001b[0m",
      "\u001b[1;31mModuleNotFoundError\u001b[0m                       Traceback (most recent call last)",
      "\u001b[1;32m<ipython-input-90-1e4fb1cf9fa4>\u001b[0m in \u001b[0;36m<module>\u001b[1;34m\u001b[0m\n\u001b[0;32m      4\u001b[0m \u001b[1;32mimport\u001b[0m \u001b[0mlogging\u001b[0m\u001b[1;33m\u001b[0m\u001b[1;33m\u001b[0m\u001b[0m\n\u001b[0;32m      5\u001b[0m \u001b[1;32mimport\u001b[0m \u001b[0mcmake\u001b[0m\u001b[1;33m\u001b[0m\u001b[1;33m\u001b[0m\u001b[0m\n\u001b[1;32m----> 6\u001b[1;33m \u001b[1;32mimport\u001b[0m \u001b[0mface_recognition\u001b[0m\u001b[1;33m\u001b[0m\u001b[1;33m\u001b[0m\u001b[0m\n\u001b[0m\u001b[0;32m      7\u001b[0m \u001b[1;33m\u001b[0m\u001b[0m\n\u001b[0;32m      8\u001b[0m \u001b[1;31m#importação das bibliotecas\u001b[0m\u001b[1;33m\u001b[0m\u001b[1;33m\u001b[0m\u001b[1;33m\u001b[0m\u001b[0m\n",
      "\u001b[1;31mModuleNotFoundError\u001b[0m: No module named 'face_recognition'"
     ]
    }
   ],
   "source": [
    "import numpy as np\n",
    "import cv2\n",
    "import autopy\n",
    "import logging\n",
    "import cmake\n",
    "import face_recognition\n",
    "\n",
    "#importação das bibliotecas"
   ]
  },
  {
   "cell_type": "code",
   "execution_count": 91,
   "metadata": {},
   "outputs": [
    {
     "ename": "ModuleNotFoundError",
     "evalue": "No module named 'pytesseract'",
     "output_type": "error",
     "traceback": [
      "\u001b[1;31m---------------------------------------------------------------------------\u001b[0m",
      "\u001b[1;31mModuleNotFoundError\u001b[0m                       Traceback (most recent call last)",
      "\u001b[1;32m<ipython-input-91-4e81f9d1020d>\u001b[0m in \u001b[0;36m<module>\u001b[1;34m\u001b[0m\n\u001b[1;32m----> 1\u001b[1;33m \u001b[1;32mimport\u001b[0m \u001b[0mpytesseract\u001b[0m \u001b[1;32mas\u001b[0m \u001b[0mocr\u001b[0m\u001b[1;33m\u001b[0m\u001b[1;33m\u001b[0m\u001b[0m\n\u001b[0m\u001b[0;32m      2\u001b[0m \u001b[1;32mimport\u001b[0m \u001b[0mnumpy\u001b[0m \u001b[1;32mas\u001b[0m \u001b[0mnp\u001b[0m\u001b[1;33m\u001b[0m\u001b[1;33m\u001b[0m\u001b[0m\n\u001b[0;32m      3\u001b[0m \u001b[1;32mimport\u001b[0m \u001b[0mcv2\u001b[0m\u001b[1;33m\u001b[0m\u001b[1;33m\u001b[0m\u001b[0m\n\u001b[0;32m      4\u001b[0m \u001b[1;33m\u001b[0m\u001b[0m\n\u001b[0;32m      5\u001b[0m \u001b[1;33m\u001b[0m\u001b[0m\n",
      "\u001b[1;31mModuleNotFoundError\u001b[0m: No module named 'pytesseract'"
     ]
    }
   ],
   "source": [
    "import pytesseract as ocr\n",
    "import numpy as np\n",
    "import cv2\n",
    "\n",
    "\n",
    "from PIL import Image\n",
    "\n",
    "imagem = Image.open('livro1  .jpg').convert('RGB')\n",
    "\n",
    "npimagem =np.asarray(imagem).astype(np.uint8)\n",
    "\n",
    "npimagem[:, :, 0] = 0\n",
    "npimagem[:, :, 2] = 0\n",
    "\n",
    "im = cv2.cvtColor(npimagem, cv2.COLOR_RGB2GRAY) \n",
    "\n",
    "\n",
    "ret, thresh = cv2.threshold(im, 127, 255, cv2.THRESH_BINARY | cv2.THRESH_OTSU)\n",
    "\n",
    "binimagem = Image.fromarray(thresh)\n",
    "\n",
    "phrase = ocr.image_to_string(binimagem, lang = 'por')\n",
    "\n",
    "print(phrase)"
   ]
  },
  {
   "cell_type": "code",
   "execution_count": 89,
   "metadata": {},
   "outputs": [
    {
     "ename": "NameError",
     "evalue": "name 'os' is not defined",
     "output_type": "error",
     "traceback": [
      "\u001b[1;31m---------------------------------------------------------------------------\u001b[0m",
      "\u001b[1;31mNameError\u001b[0m                                 Traceback (most recent call last)",
      "\u001b[1;32m<ipython-input-89-924c52a638c2>\u001b[0m in \u001b[0;36m<module>\u001b[1;34m\u001b[0m\n\u001b[0;32m      1\u001b[0m \u001b[0mfaces_encodings\u001b[0m \u001b[1;33m=\u001b[0m \u001b[1;33m[\u001b[0m\u001b[1;33m]\u001b[0m\u001b[1;33m\u001b[0m\u001b[1;33m\u001b[0m\u001b[0m\n\u001b[0;32m      2\u001b[0m \u001b[0mfaces_names\u001b[0m \u001b[1;33m=\u001b[0m \u001b[1;33m[\u001b[0m\u001b[1;33m]\u001b[0m\u001b[1;33m\u001b[0m\u001b[1;33m\u001b[0m\u001b[0m\n\u001b[1;32m----> 3\u001b[1;33m \u001b[0mcur_direc\u001b[0m \u001b[1;33m=\u001b[0m \u001b[0mos\u001b[0m\u001b[1;33m.\u001b[0m\u001b[0mgetcwd\u001b[0m\u001b[1;33m(\u001b[0m\u001b[1;33m)\u001b[0m\u001b[1;33m\u001b[0m\u001b[1;33m\u001b[0m\u001b[0m\n\u001b[0m\u001b[0;32m      4\u001b[0m \u001b[0mpath\u001b[0m \u001b[1;33m=\u001b[0m \u001b[0mos\u001b[0m\u001b[1;33m.\u001b[0m\u001b[0mpath\u001b[0m\u001b[1;33m.\u001b[0m\u001b[0mjoin\u001b[0m\u001b[1;33m(\u001b[0m\u001b[0mcur_direc\u001b[0m\u001b[1;33m,\u001b[0m \u001b[1;34m'faces/'\u001b[0m\u001b[1;33m)\u001b[0m\u001b[1;33m\u001b[0m\u001b[1;33m\u001b[0m\u001b[0m\n\u001b[0;32m      5\u001b[0m \u001b[0mlist_of_files\u001b[0m \u001b[1;33m=\u001b[0m \u001b[1;33m[\u001b[0m\u001b[0mf\u001b[0m \u001b[1;32mfor\u001b[0m \u001b[0mf\u001b[0m \u001b[1;32min\u001b[0m \u001b[0mglob\u001b[0m\u001b[1;33m.\u001b[0m\u001b[0mglob\u001b[0m\u001b[1;33m(\u001b[0m\u001b[0mpath\u001b[0m\u001b[1;33m+\u001b[0m\u001b[1;34m'*.jpg'\u001b[0m\u001b[1;33m)\u001b[0m\u001b[1;33m]\u001b[0m\u001b[1;33m\u001b[0m\u001b[1;33m\u001b[0m\u001b[0m\n",
      "\u001b[1;31mNameError\u001b[0m: name 'os' is not defined"
     ]
    }
   ],
   "source": [
    "faces_encodings = []\n",
    "faces_names = []\n",
    "cur_direc = os.getcwd()\n",
    "path = os.path.join(cur_direc, 'faces/')\n",
    "list_of_files = [f for f in glob.glob(path+'*.jpg')]\n",
    "number_files = len(list_of_files)\n",
    "names = list_of_files.copy()"
   ]
  },
  {
   "cell_type": "code",
   "execution_count": 85,
   "metadata": {},
   "outputs": [],
   "source": [
    "log_format = '%(asctime)s:%(levelname)s:%(filename)s:%(message)s'\n",
    "\n",
    "logging.basicConfig(filename='trabalho-comgraf-g2.log',\n",
    "                    # w -> sobrescreve o arquivo a cada log\n",
    "                    # a -> não sobrescreve o arquivo\n",
    "                    filemode='w',\n",
    "                    level=logging.DEBUG,\n",
    "                    format=log_format)\n",
    "\n",
    "logger = logging.getLogger()\n",
    "logger.setLevel(logging.DEBUG)"
   ]
  },
  {
   "cell_type": "code",
   "execution_count": 86,
   "metadata": {},
   "outputs": [],
   "source": [
    "def fullname(primeiro_nome: str, segundo_nome: str) -> str:\n",
    "\n",
    "    # Aqui, verificamos se os parametros passados são do tipo string (str)\n",
    "    if isinstance(primeiro_nome, str) and isinstance(segundo_nome, str):\n",
    "        logger.info(f'{primeiro_nome} {segundo_nome}')\n",
    "        return primeiro_nome + segundo_nome\n",
    "    else:\n",
    "        logger.error(\n",
    "            f'{primeiro_nome} type: {type(primeiro_nome)} - {segundo_nome} type: {type(segundo_nome)}'\n",
    "        )\n",
    "\n",
    "fullname('Manu', 'Marques')\n",
    "fullname('Manu', True)\n",
    "\n",
    "logging.info('foi quando o user logou')"
   ]
  },
  {
   "cell_type": "code",
   "execution_count": 59,
   "metadata": {},
   "outputs": [],
   "source": [
    "wCam, hCam = 640, 480 #define tamanho da camera\n",
    "frameR = 100     #Redução do frame\n",
    "smoothening = 7  #usado pra adequar o movimento do mouse - valor mágico\n",
    "\n",
    "pTime = 0\n",
    "plocX, plocY = 0, 0\n",
    "clocX, clocY = 0, 0\n",
    "wScr, hScr = autopy.screen.size() #retorna o tamanho da tela"
   ]
  },
  {
   "cell_type": "code",
   "execution_count": 60,
   "metadata": {},
   "outputs": [],
   "source": [
    "def prep(captured_frame):\n",
    "    captured_frame_bgr = cv2.cvtColor(captured_frame, cv2.COLOR_BGRA2BGR) #remove a opacidade\n",
    "    captured_frame_bgr = cv2.medianBlur(captured_frame_bgr, 3) #deixa a imagem com blur\n",
    "    captured_frame_lab = cv2.cvtColor(captured_frame_bgr, cv2.COLOR_BGR2Lab) #converte a cor pra cor lab\n",
    "    \n",
    "    return captured_frame_lab"
   ]
  },
  {
   "cell_type": "code",
   "execution_count": 61,
   "metadata": {},
   "outputs": [],
   "source": [
    "def filter_by(captured_frame,init, end):\n",
    "    filter_range = cv2.inRange(captured_frame, np.array(init), np.array(end)) #cria uma máscara baseada no range init e end\n",
    "    img_filter = cv2.GaussianBlur(filter_range, (5, 5), 2, 2) #converte a máscara pra uma diferença de gaussian\n",
    "    \n",
    "    return img_filter"
   ]
  },
  {
   "cell_type": "code",
   "execution_count": 62,
   "metadata": {},
   "outputs": [],
   "source": [
    "def get_contours(img):\n",
    "    canny = cv2.Canny(img,10,50) #converte a imagem para retornar bordas -pega um objeto sólido e faz o contorno - o interior fica preto\n",
    "    contours = cv2.findContours(canny,cv2.RETR_EXTERNAL,cv2.CHAIN_APPROX_NONE)[0] #pega as coordenadas das bordas\n",
    "    \n",
    "    return contours"
   ]
  },
  {
   "cell_type": "code",
   "execution_count": 63,
   "metadata": {},
   "outputs": [],
   "source": [
    "def add_retangle(img, contour, color):\n",
    "    peri = cv2.arcLength(cnt, True) #calcula o perimetro       \n",
    "    approx = cv2.approxPolyDP(cnt, 0.02* peri,True) #retorna as coordenadas aproximadas\n",
    "    cv2.drawContours(img, cnt, -1, (255, 0, 255), 7) #desenha as bordas\n",
    "    x_,y_, w, h = cv2.boundingRect(approx) #retorna as coordenadas quadraticas\n",
    "    cv2.rectangle(img, (x_,y_), (x_+w,y_+h),color, 5) #faz o quadrado baseado nas coordenadas"
   ]
  },
  {
   "cell_type": "code",
   "execution_count": 64,
   "metadata": {},
   "outputs": [],
   "source": [
    "cap = cv2.VideoCapture(0) #captura a camera\n",
    "close = False\n",
    "\n",
    "while(True):\n",
    "    ret, captured_frame = cap.read() #pega o frame da camera\n",
    "    output_frame = captured_frame.copy() #faz a copia do frame\n",
    "\n",
    "    img_prep = prep(captured_frame) #prepara a imagem\n",
    "    \n",
    "    img_filter_left_click = filter_by(img_prep, [17, 63, 84], [255, 112, 255]) #objeto cor verde - filtro baseado na cor\n",
    "    contours_left_click = get_contours(img_filter_left_click) # pega as bordas a partir do filtro\n",
    "    \n",
    "    img_filter_right_click = filter_by(img_prep, [43, 144, 90], [199, 199, 164])#objeto cor rosa - filtro baseado na cor\n",
    "    contours_right_click = get_contours(img_filter_right_click) # pega as bordas a partir do filtro\n",
    "    \n",
    "    img_filter_close_click = filter_by(img_prep, [23, 40, 2], [179, 255, 255])#objeto cor azul - filtro baseado na cor\n",
    "    contours_close_click = get_contours(img_filter_close_click) # pega as bordas a partir do filtro\n",
    "    \n",
    "    img_filter_move = filter_by(img_prep, [101, 69, 149], [236, 179, 190]) #objeto cor amarelo - filtro baseado na cor\n",
    "    contours_move = get_contours(img_filter_move) # pega as bordas a partir do filtro\n",
    "    \n",
    "    for cnt in contours_left_click: #pra cada borda do filtro, executa o clique\n",
    "        area = cv2.contourArea(cnt) #pega a area total da borda\n",
    "        if area> 1000: #se for maior que 1000\n",
    "            add_retangle(output_frame, cnt, (255, 0, 0)) #adiciona um retangulo vermelho\n",
    "            autopy.mouse.click(autopy.mouse.Button.LEFT) #clica com o botao esquerdo          \n",
    "        \n",
    "    for cnt in contours_right_click:\n",
    "        area = cv2.contourArea(cnt)\n",
    "        if area> 1000:\n",
    "            add_retangle(output_frame, cnt, (252, 223, 3)) #adiciona um retangulo amarelo          \n",
    "            autopy.mouse.click(autopy.mouse.Button.RIGHT)              \n",
    "        \n",
    "    for cnt in contours_close_click:\n",
    "        area = cv2.contourArea(cnt)\n",
    "        if area> 1000:            \n",
    "            add_retangle(output_frame, cnt, (3, 36, 252)) #adiciona um retangulo azul\n",
    "            close = True\n",
    "    \n",
    "    for cnt in contours_move:\n",
    "        area = cv2.contourArea(cnt)\n",
    "        \n",
    "        if area> 109:\n",
    "            add_retangle(output_frame, cnt, (0,255,0)) #adiciona um retangulo verde\n",
    "            \n",
    "            peri = cv2.arcLength(cnt, True)  # pega o perimetro      \n",
    "            approx = cv2.approxPolyDP(cnt, 0.02* peri,True) # aproximaçao - mesma regra la de cima\n",
    "            \n",
    "            x_,y_, w, h = cv2.boundingRect(approx)\n",
    "            x1, y1 = (int(x_+w/2) , int(y_+h/2))  #pega a coordenada do centro do quadrado \n",
    "            \n",
    "            x3 = np.interp(x1, (frameR, wCam-frameR), (0, wScr)) #pega a intersecção do eixo x baseada na largura da camera com a largura da tela\n",
    "            y3 = np.interp(y1, (frameR, hCam-frameR), (0, hScr)) #pega a intersecção do eixo y baseada na altura da camera com a altura da tela\n",
    "\n",
    "            # Calcula o movimento que vai fazer\n",
    "            clocX = plocX + (x3 - plocX) / smoothening\n",
    "            clocY = plocY + (y3 - plocY) / smoothening\n",
    "\n",
    "            # Movimento do mouse\n",
    "            autopy.mouse.move(wScr - clocX, clocY)\n",
    "            cv2.circle(output_frame, (x1, y1), 15, (255, 0, 255), cv2.FILLED) #insere um circulo na coordenada que ta usando\n",
    "            plocX, plocY = clocX, clocY # salva as infos\n",
    "       \n",
    "\n",
    "    cv2.imshow('frame', output_frame) #retorna a camera com as infos\n",
    "    if cv2.waitKey(1) & 0xFF == ord('q'): #se quiser fechar com q\n",
    "        break\n",
    "        \n",
    "cap.release() #liberar câmera\n",
    "cv2.destroyAllWindows() #destroi todas as janelas que o cv2 abriu"
   ]
  },
  {
   "cell_type": "code",
   "execution_count": 55,
   "metadata": {},
   "outputs": [],
   "source": [
    "cap.release() #liberar câmera\n",
    "cv2.destroyAllWindows() #destroi todas as janelas que o cv2 abriu"
   ]
  },
  {
   "cell_type": "code",
   "execution_count": null,
   "metadata": {},
   "outputs": [],
   "source": []
  }
 ],
 "metadata": {
  "kernelspec": {
   "display_name": "Python 3",
   "language": "python",
   "name": "python3"
  },
  "language_info": {
   "codemirror_mode": {
    "name": "ipython",
    "version": 3
   },
   "file_extension": ".py",
   "mimetype": "text/x-python",
   "name": "python",
   "nbconvert_exporter": "python",
   "pygments_lexer": "ipython3",
   "version": "3.8.8"
  }
 },
 "nbformat": 4,
 "nbformat_minor": 4
}
